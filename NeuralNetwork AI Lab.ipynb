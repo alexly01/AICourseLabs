{
 "cells": [
  {
   "cell_type": "code",
   "execution_count": 1,
   "metadata": {
    "id": "-8RXCN8X3sC1"
   },
   "outputs": [],
   "source": [
    "# Generating a toy dataset.\n",
    "# DO NOT MODIFY THIS PART\n",
    "\n",
    "import numpy as np\n",
    "import math\n",
    "import random as rand\n",
    "\n",
    "paras = list((rand.random() - 0.5 for _ in range(13)))\n",
    "\n",
    "def sigmoid(x):\n",
    "    return 1 / (1 + np.exp(-x))\n",
    "\n",
    "def y_gen(x):\n",
    "    h_11 = sigmoid(paras[0] * x[0] + paras[1] * x[1] + paras[2])\n",
    "    h_12 = sigmoid(paras[3] * x[0] + paras[4] * x[1] + paras[5])\n",
    "    h_13 = sigmoid(paras[6] * x[0] + paras[7] * x[1] + paras[8])\n",
    "    h_21 = sigmoid(paras[9] * h_11 + paras[10] * h_12 + paras[11] * h_13 + paras[12])\n",
    "    return h_21 + ((rand.random()-0.5)/100 if rand.random()>0.6 else 0)\n",
    "\n",
    "n = 300\n",
    "x = list(zip((rand.random() - 0.5 for _ in range(n)), (rand.random() - 0.5 for _ in range(n))))\n",
    "y = list(map(y_gen, x))\n",
    "y = [(i-min(y))/(max(y)-min(y)) for i in y]\n",
    "\n",
    "from sklearn.model_selection import train_test_split\n",
    "\n",
    "r = 0.2\n",
    "x_train_valid, x_test, y_train_valid, y_test = train_test_split(x, y, test_size=r)\n",
    "x_train, x_valid, y_train, y_valid = train_test_split(x_train_valid, y_train_valid, test_size=r)"
   ]
  },
  {
   "cell_type": "code",
   "execution_count": 5,
   "metadata": {},
   "outputs": [
    {
     "data": {
      "image/png": "[encoded data removed]",
      "text/plain": [
       "<Figure size 432x288 with 1 Axes>"
      ]
     },
     "metadata": {
      "needs_background": "light"
     },
     "output_type": "display_data"
    },
    {
     "data": {
      "image/png": "[encoded data removed]",
      "text/plain": [
       "<Figure size 432x288 with 1 Axes>"
      ]
     },
     "metadata": {
      "needs_background": "light"
     },
     "output_type": "display_data"
    }
   ],
   "source": [
    "import matplotlib.pyplot as plt\n",
    "\n",
    "# initialize learning rate\n",
    "alpha = 0.1\n",
    "\n",
    "# step c\n",
    "w1 = np.random.uniform(-1, 1, (3, 2))\n",
    "w2 = np.random.uniform(-1, 1, (1, 3))\n",
    "\n",
    "b1 = np.zeros((3, 1))\n",
    "b2 = np.zeros((1, 1))\n",
    "\n",
    "# propagate inputs through network\n",
    "def forward_propagation(x, w1, w2, b1, b2):\n",
    "    z1 = np.dot(w1, x) + b1\n",
    "    a1 = sigmoid(z1)\n",
    "    z2 = np.dot(w2, a1) + b2\n",
    "    a2 = sigmoid(z2)\n",
    "    return a1, a2\n",
    "\n",
    "# sigmoid derivative for backwards propagation\n",
    "def sigmoid_derivative(x):\n",
    "    return sigmoid(x) * (1 - sigmoid(x))\n",
    "\n",
    "# compute gradient of loss function\n",
    "def backward_propagation(x, y, a1, a2, w1, w2):\n",
    "    # layer 1\n",
    "    # z1\n",
    "    layer1_pre_activation_loss = np.dot(w2.T, (a2 - y) * sigmoid_derivative(a2)) * sigmoid_derivative(a1)\n",
    "    # layer1 weight gradient of loss \n",
    "    layer1_weight_loss = np.dot(layer1_pre_activation_loss, x.T)\n",
    "    # layer1 bias gradient of loss \n",
    "    layer1_bias_loss = np.sum(layer1_pre_activation_loss, axis=1, keepdims=True)\n",
    "    \n",
    "    # layer 2\n",
    "    #\n",
    "    output_error = a2 - y\n",
    "    # z2\n",
    "    layer2_pre_activation_loss = output_error * sigmoid_derivative(a2)\n",
    "    # # layer2 weight gradient of loss \n",
    "    layer2_weight_loss = np.dot(layer2_pre_activation_loss, a1.T)\n",
    "    # layer2 bias gradient of loss \n",
    "    layer2_bias_loss = np.sum(layer2_pre_activation_loss, axis=1, keepdims=True)\n",
    "\n",
    "    return layer1_weight_loss, layer1_bias_loss, layer2_weight_loss, layer2_bias_loss\n",
    "\n",
    "# gradient descent of parameters\n",
    "def gradient_descent(w1, w2, b1, b2, layer1_weight_loss, layer1_bias_loss, layer2_weight_loss, layer2_bias_loss, alpha):\n",
    "    # update weight/bias for layer 1\n",
    "    w1 -= alpha * layer1_weight_loss\n",
    "    b1 -= alpha * layer1_bias_loss\n",
    "\n",
    "    # update weight/bias for layer 2\n",
    "    w2 -= alpha * layer2_weight_loss\n",
    "    b2 -= alpha * layer2_bias_loss\n",
    "\n",
    "# step d\n",
    "def run_epoch(x_train, y_train, x_valid, y_valid, w1, w2, b1, b2, alpha):\n",
    "    \n",
    "    train_loss = 0\n",
    "    for i in range(len(x_train)):\n",
    "        x_sample = np.array(x_train[i]).reshape(-1, 1)\n",
    "        y_sample = np.array(y_train[i]).reshape(-1, 1)\n",
    "\n",
    "        # forward\n",
    "        a1, a2 = forward_propagation(x_sample, w1, w2, b1, b2)\n",
    "        train_loss += 0.5 * np.mean((y_sample - a2) ** 2)\n",
    "\n",
    "        # backward\n",
    "        layer1_weight_grad, layer1_bias_grad, layer2_weight_grad, layer2_bias_grad = backward_propagation(x_sample, y_sample, a1, a2, w1, w2)\n",
    "        \n",
    "        # gradient descent\n",
    "        gradient_descent(w1, w2, b1, b2, layer1_weight_grad, layer1_bias_grad, layer2_weight_grad, layer2_bias_grad, alpha)\n",
    "\n",
    "    train_loss /= len(x_train)\n",
    "\n",
    "    valid_loss = 0\n",
    "    for i in range(len(x_valid)):\n",
    "        x_sample = np.array(x_valid[i]).reshape(-1, 1)\n",
    "        y_sample = np.array(y_valid[i]).reshape(-1, 1)\n",
    "        \n",
    "        # forward\n",
    "        _, a2 = forward_propagation(x_sample, w1, w2, b1, b2)\n",
    "        valid_loss += 0.5 * np.mean((y_sample - a2) ** 2)\n",
    "\n",
    "    valid_loss /= len(x_valid)\n",
    "    \n",
    "    return train_loss, valid_loss\n",
    "\n",
    "epochs = 300\n",
    "train_loss_history = []\n",
    "valid_loss_history = []\n",
    "\n",
    "# run epoch\n",
    "for epoch in range(epochs):\n",
    "    train_loss, valid_loss = run_epoch(x_train, y_train, x_valid, y_valid, w1, w2, b1, b2, alpha)\n",
    "    train_loss_history.append(train_loss)\n",
    "    valid_loss_history.append(valid_loss)\n",
    "\n",
    "# plot training and validation cost\n",
    "plt.plot(train_loss_history, color='blue', marker='o', linestyle='', label='Training Cost')\n",
    "plt.plot(valid_loss_history, color='blue', linestyle='-', label='Validation Cost')\n",
    "plt.xlabel('Epochs')\n",
    "plt.ylabel('Loss')\n",
    "plt.title(\"Training and validation cost\")\n",
    "plt.legend()\n",
    "plt.show()\n",
    "\n",
    "# step g \n",
    "y_pred = []\n",
    "for x_sample in x_test:\n",
    "    x_sample = np.array(x_sample).reshape(-1, 1)\n",
    "    # run forward prop to get predicted value\n",
    "    _, a2 = forward_propagation(x_sample, w1, w2, b1, b2)\n",
    "    y_pred.append(a2.item())\n",
    "\n",
    "# plot true and predicted output\n",
    "plt.scatter(y_test, y_pred)\n",
    "plt.xlabel('True')\n",
    "plt.ylabel('Predict')\n",
    "plt.title('True and predicted output')\n",
    "plt.show()"
   ]
  },
  {
   "cell_type": "code",
   "execution_count": null,
   "metadata": {},
   "outputs": [],
   "source": []
  }
 ],
 "metadata": {
  "colab": {
   "provenance": []
  },
  "kernelspec": {
   "display_name": "Python 3 (ipykernel)",
   "language": "python",
   "name": "python3"
  },
  "language_info": {
   "codemirror_mode": {
    "name": "ipython",
    "version": 3
   },
   "file_extension": ".py",
   "mimetype": "text/x-python",
   "name": "python",
   "nbconvert_exporter": "python",
   "pygments_lexer": "ipython3",
   "version": "3.9.7"
  }
 },
 "nbformat": 4,
 "nbformat_minor": 4
}

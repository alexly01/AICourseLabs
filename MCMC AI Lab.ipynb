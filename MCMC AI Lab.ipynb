{
 "cells": [
  {
   "cell_type": "code",
   "execution_count": 14,
   "id": "384754e6",
   "metadata": {},
   "outputs": [
    {
     "data": {
      "text/plain": [
       "R\n",
       "False    0.181818\n",
       "True     0.818182\n",
       "Name: P(R), dtype: float64"
      ]
     },
     "execution_count": 14,
     "metadata": {},
     "output_type": "execute_result"
    }
   ],
   "source": [
    "# Alexander Ly 027744520\n",
    "# CECS 451 Sec 01\n",
    "# Assignment 4 - MCMC\n",
    "# March 16, 2024\n",
    "\n",
    "import sorobn as hh\n",
    "import pandas as pd\n",
    "import random\n",
    "\n",
    "# C = Cloudy\n",
    "# S = Sprinkler\n",
    "# R = Rain\n",
    "# W = Wet Grass\n",
    "\n",
    "bn = hh.BayesNet(\n",
    "    ('C', ['S', 'R']),\n",
    "    ('S', 'W'),\n",
    "    ('R', 'W'))\n",
    "\n",
    "bn.P['C'] = pd.Series({True: 0.5, False:0.5})\n",
    "bn.P['S'] = pd.Series({\n",
    "    (True, True): 0.1, (True, False): 0.9,\n",
    "    (False, True): 0.5, (False, False): 0.5})\n",
    "bn.P['R'] = pd.Series({\n",
    "    (True, True): 0.8, (True, False): 0.2,\n",
    "    (False, True): 0.2, (False, False): 0.8})\n",
    "bn.P['W'] = pd.Series({\n",
    "    (True, True, True): 0.99, (True, True, False): 0.01,\n",
    "    (True, False, True): 0.9, (True, False, False): 0.1,\n",
    "    (False, True, True): 0.95, (False, True, False): 0.05,\n",
    "    (False, False, True): 0.05, (False, False, False): 0.95})\n",
    "bn.prepare()\n",
    "bn.query('R', event={'C': False, 'S': False, 'W': True})\n",
    "#bn.query('C', event={'S': False, 'R': False})"
   ]
  },
  {
   "cell_type": "code",
   "execution_count": 15,
   "id": "00b63499",
   "metadata": {},
   "outputs": [
    {
     "name": "stdout",
     "output_type": "stream",
     "text": [
      "Part A. The sampling probabilities\n",
      "P(C|-s,r) = <0.8780, 0.1220>\n",
      "P(C|-s,-r) = <0.3103, 0.6897>\n",
      "P(R|c,-s,w) = <0.9863, 0.0137>\n",
      "P(R|-c,-s,w) = <0.8182, 0.1818>\n"
     ]
    }
   ],
   "source": [
    "# Part A\n",
    "print(\"Part A. The sampling probabilities\")\n",
    "print(\"P(C|-s,r) = <{:.4f}, {:.4f}>\".format(0.878049, 0.121951))\n",
    "print(\"P(C|-s,-r) = <{:.4f}, {:.4f}>\".format(0.310345, 0.689655))\n",
    "print(\"P(R|c,-s,w) = <{:.4f}, {:.4f}>\".format(0.986301, 0.013699))\n",
    "print(\"P(R|-c,-s,w) = <{:.4f}, {:.4f}>\".format(0.818182, 0.181818))"
   ]
  },
  {
   "cell_type": "code",
   "execution_count": 16,
   "id": "badb1a63",
   "metadata": {},
   "outputs": [],
   "source": [
    "# Calculations \n",
    "prob_C_given_nots_r = {True: 0.878049, False: 0.121951}\n",
    "prob_R_given_c_nots_w = {True: 0.986301, False: 0.013699}\n",
    "prob_C_given_nots_notr = {True: 0.310345, False: 0.689655}\n",
    "prob_R_given_notc_nots_w = {True: 0.818182, False: 0.181818}\n",
    "\n",
    "# Create Matrix for values\n",
    "matrix = [[0, 0, 0, 0],[0, 0, 0, 0],[0, 0, 0, 0],[0, 0, 0, 0]]\n",
    "\n",
    "matrix[0][0] = (0.5 * prob_C_given_nots_r[True]) + (0.5 * prob_R_given_c_nots_w[True])\n",
    "matrix[0][1] = 0.5 * prob_R_given_c_nots_w[False]\n",
    "matrix[0][2] = 0.5 * prob_C_given_nots_r[False]\n",
    "matrix[0][3] = 0\n",
    "\n",
    "matrix[1][0] = 0.5 * prob_R_given_c_nots_w[True]\n",
    "matrix[1][1] = (0.5 * prob_C_given_nots_notr[True]) + (0.5 * prob_R_given_c_nots_w[False])\n",
    "matrix[1][2] = 0\n",
    "matrix[1][3] = 0.5 * prob_C_given_nots_notr[False]\n",
    "\n",
    "matrix[2][0] = 0.5 * prob_C_given_nots_r[True]\n",
    "matrix[2][1] = 0\n",
    "matrix[2][2] = (0.5 * prob_C_given_nots_r[False]) + (0.5 * prob_R_given_notc_nots_w[True])\n",
    "matrix[2][3] = 0.5 * prob_R_given_notc_nots_w[False]\n",
    "\n",
    "matrix[3][0] = 0\n",
    "matrix[3][1] = 0.5 * prob_C_given_nots_notr[True]\n",
    "matrix[3][2] = 0.5 * prob_R_given_notc_nots_w[True]\n",
    "matrix[3][3] = (0.5 * prob_C_given_nots_notr[False]) + (0.5 * prob_R_given_notc_nots_w[False])"
   ]
  },
  {
   "cell_type": "code",
   "execution_count": 17,
   "id": "bbe404f9",
   "metadata": {},
   "outputs": [
    {
     "name": "stdout",
     "output_type": "stream",
     "text": [
      "Part B. The transition probability matrix\n",
      "     S1     S2     S3     S4\n",
      "S1 0.9322 0.0068 0.0610 0.0000\n",
      "S2 0.4932 0.1620 0.0000 0.3448\n",
      "S3 0.4390 0.0000 0.4701 0.0909\n",
      "S4 0.0000 0.1552 0.4091 0.4357\n"
     ]
    }
   ],
   "source": [
    "# Part B\n",
    "print(\"Part B. The transition probability matrix\")\n",
    "print(\"     S1     S2     S3     S4\")\n",
    "print(\"S1\", \"{:.4f}\".format(matrix[0][0]), \"{:.4f}\".format(matrix[0][1]), \"{:.4f}\".format(matrix[0][2]), \"{:.4f}\".format(matrix[0][3]))\n",
    "print(\"S2\", \"{:.4f}\".format(matrix[1][0]), \"{:.4f}\".format(matrix[1][1]), \"{:.4f}\".format(matrix[1][2]), \"{:.4f}\".format(matrix[1][3]))\n",
    "print(\"S3\", \"{:.4f}\".format(matrix[2][0]), \"{:.4f}\".format(matrix[2][1]), \"{:.4f}\".format(matrix[2][2]), \"{:.4f}\".format(matrix[2][3]))\n",
    "print(\"S4\", \"{:.4f}\".format(matrix[3][0]), \"{:.4f}\".format(matrix[3][1]), \"{:.4f}\".format(matrix[3][2]), \"{:.4f}\".format(matrix[3][3]))"
   ]
  },
  {
   "cell_type": "code",
   "execution_count": 18,
   "id": "52680897",
   "metadata": {},
   "outputs": [
    {
     "name": "stdout",
     "output_type": "stream",
     "text": [
      "Part C. The probability for the query P(C|-s,w)\n",
      "Exact probability: <0.8566, 0.1434>\n",
      "n = 10^3: <0.8260, 0.1740>, error = 3.57%\n",
      "n = 10^4: <0.8505, 0.1495>, error = 0.71%\n",
      "n = 10^5: <0.8547, 0.1453>, error = 0.22%\n",
      "n = 10^6: <0.8566, 0.1434>, error = 0.00%\n"
     ]
    }
   ],
   "source": [
    "# Part C\n",
    "\n",
    "# Get value for P(C|-s,w)\n",
    "prob_C_given_nots_w = bn.query('C', event={'S': False, 'W': True})\n",
    "prob_C_given_nots_w_True = prob_C_given_nots_w[True]\n",
    "prob_C_given_nots_w_False = prob_C_given_nots_w[False]\n",
    "exact_prob_C_given_nots_w = {True: prob_C_given_nots_w_True, False: prob_C_given_nots_w_False}\n",
    "\n",
    "# Output the exact value that we got from above\n",
    "print(\"Part C. The probability for the query P(C|-s,w)\")\n",
    "print(\"Exact probability: <{:.4f}, {:.4f}>\".format(prob_C_given_nots_w_True, prob_C_given_nots_w_False))\n",
    "\n",
    "# For loop for each 10^n \n",
    "for i in range(3, 7): \n",
    "    # Set n equal to the power of each range\n",
    "    n = 10**i  \n",
    "    # Create dictionary to keep track of each time state is visited\n",
    "    amount = {'S1': 0, 'S2': 0, 'S3': 0, 'S4': 0}\n",
    "    # Start with a random state\n",
    "    start_state = random.choice(['S1', 'S2', 'S3', 'S4'])\n",
    "\n",
    "    # For loop to go through each given n\n",
    "    for j in range(n):\n",
    "        # Increment the count by 1 for the state that was chosen\n",
    "        amount[start_state] += 1\n",
    "\n",
    "        # Based on the chosen state, select the row correlated with it\n",
    "        if start_state == 'S1':\n",
    "            row = 0\n",
    "        elif start_state == 'S2':\n",
    "            row = 1\n",
    "        elif start_state == 'S3':\n",
    "            row = 2\n",
    "        else:\n",
    "            row = 3\n",
    "\n",
    "        # Determine the row and get the probabilities for that row based on the current state\n",
    "        current_row = matrix[row]\n",
    "\n",
    "        # Randomly select the next state based on the transition probabilities\n",
    "        next_state = random.choices(['S1', 'S2', 'S3', 'S4'], weights=current_row, k=1)[0]\n",
    "\n",
    "\n",
    "        # change starting state to the state that was selected in previous \n",
    "        start_state = next_state\n",
    "\n",
    "        \n",
    "    # Total the true and false predicted probabilities\n",
    "    pred_prob_C_given_not_s_w_true = (amount['S1'] + amount['S2']) / n\n",
    "    pred_prob_C_given_not_s_w_false = (amount['S3'] + amount['S4']) / n\n",
    "\n",
    "    # Get the error\n",
    "    error = abs((exact_prob_C_given_nots_w[True] - pred_prob_C_given_not_s_w_true) / exact_prob_C_given_nots_w[True]) * 100\n",
    "    \n",
    "    # Output predicted value with error percentage for given n\n",
    "    print(f\"n = 10^{i}: <{pred_prob_C_given_not_s_w_true:.4f}, {pred_prob_C_given_not_s_w_false:.4f}>, error = {error:.2f}%\")"
   ]
  },
  {
   "cell_type": "code",
   "execution_count": null,
   "id": "bb61e24d",
   "metadata": {},
   "outputs": [],
   "source": []
  }
 ],
 "metadata": {
  "kernelspec": {
   "display_name": "Python 3 (ipykernel)",
   "language": "python",
   "name": "python3"
  },
  "language_info": {
   "codemirror_mode": {
    "name": "ipython",
    "version": 3
   },
   "file_extension": ".py",
   "mimetype": "text/x-python",
   "name": "python",
   "nbconvert_exporter": "python",
   "pygments_lexer": "ipython3",
   "version": "3.9.7"
  }
 },
 "nbformat": 4,
 "nbformat_minor": 5
}

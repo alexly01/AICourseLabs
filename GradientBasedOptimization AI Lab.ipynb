{
 "cells": [
  {
   "cell_type": "code",
   "execution_count": 24,
   "metadata": {},
   "outputs": [
    {
     "data": {
      "text/plain": [
       "<module 'matplotlib.pyplot' from 'C:\\\\Users\\\\Alex\\\\anaconda3\\\\lib\\\\site-packages\\\\matplotlib\\\\pyplot.py'>"
      ]
     },
     "execution_count": 24,
     "metadata": {},
     "output_type": "execute_result"
    },
    {
     "data": {
      "image/png": "[encoded data removed]",
      "text/plain": [
       "<Figure size 576x432 with 1 Axes>"
      ]
     },
     "metadata": {
      "needs_background": "light"
     },
     "output_type": "display_data"
    },
    {
     "data": {
      "image/png": "[encoded data removed]",
      "text/plain": [
       "<Figure size 576x432 with 1 Axes>"
      ]
     },
     "metadata": {
      "needs_background": "light"
     },
     "output_type": "display_data"
    },
    {
     "data": {
      "image/png": "[encoded data removed]",
      "text/plain": [
       "<Figure size 576x432 with 1 Axes>"
      ]
     },
     "metadata": {
      "needs_background": "light"
     },
     "output_type": "display_data"
    }
   ],
   "source": [
    "# Alexander Ly 027744520\n",
    "# CECS 451 Sec 01\n",
    "# Assignment 3 - Gradient Based Optimization\n",
    "# February 23, 2024\n",
    "\n",
    "import random\n",
    "import numpy as np\n",
    "import matplotlib.pyplot as plt\n",
    "\n",
    "num_city = 100\n",
    "num_air = 3\n",
    "num_center = 5\n",
    "sigma = 0.1\n",
    "cities = set()\n",
    "airports = []\n",
    "alpha = 0.01\n",
    "iterations = 20\n",
    "\n",
    "for i in range(num_center):\n",
    "    x = random.random()\n",
    "    y = random.random()\n",
    "    xc = np.random.normal(x, sigma, num_city // num_center)\n",
    "    yc = np.random.normal(y, sigma, num_city // num_center)\n",
    "    cities = cities.union(zip(xc, yc))\n",
    "\n",
    "for i in range(num_air):\n",
    "    x = random.random()\n",
    "    y = random.random()\n",
    "    airports.append([x, y])\n",
    "\n",
    "plt.figure(figsize=(8, 6))\n",
    "zip_cities = list(zip(*cities))\n",
    "plt.scatter(zip_cities[0], zip_cities[1], marker='+', color='b', label='Cities')\n",
    "zip_airs = list(zip(*airports))\n",
    "plt.scatter(zip_airs[0], zip_airs[1], marker='*', color='r', s=100, label='Airports')\n",
    "plt.legend()\n",
    "plt\n",
    "\n",
    "# implement objective function to determine minimization at each iteration\n",
    "def objective_function(airports, cities):\n",
    "    # set distance variable to 0\n",
    "    distance = 0\n",
    "    # iterate through cities \n",
    "    for city in cities:\n",
    "        # create a list for the distances\n",
    "        city_distances = []\n",
    "        # iterate through each airport\n",
    "        for airport in airports:\n",
    "            # minimize objective function\n",
    "            minimzation_function = (city[0] - airport[0])**2 + (city[1] - airport[1])**2\n",
    "            # append the distance to our list\n",
    "            city_distances.append(minimzation_function)\n",
    "        # get the lowest distance from the city \n",
    "        lowest_distance = min(city_distances)\n",
    "        # add that distnace to our overall distance\n",
    "        distance += lowest_distance\n",
    "    return distance\n",
    "\n",
    "# implement gradient descent to optimize our airports to best possible locations\n",
    "def gradient_descent(airports, cities, alpha, iterations):\n",
    "    # create a list for distnace values \n",
    "    distance_values = [] \n",
    "    # iterate through each iteration\n",
    "    for i in range(iterations):\n",
    "        # call the objective function to get the sum of the lowest distances\n",
    "        distance = objective_function(airports, cities)\n",
    "        # apped our distance values to our list\n",
    "        distance_values.append(distance)\n",
    "        \n",
    "        # initialize the gradient for each of our airports\n",
    "        gradient = [[0, 0], [0, 0], [0, 0]]\n",
    "        \n",
    "        # iterate through each city\n",
    "        for city in cities:\n",
    "            # create a list for the distances \n",
    "            city_distances = []\n",
    "            # iterate through each airport\n",
    "            for airport in airports:\n",
    "                # minimize objective function\n",
    "                minimzation_function = (city[0] - airport[0])**2 + (city[1] - airport[1])**2\n",
    "                # append the distance to our list\n",
    "                city_distances.append(minimzation_function)\n",
    "            # get the index of the closest airport to the city\n",
    "            closest_airport = city_distances.index(min(city_distances))\n",
    "            # get derivative and update our gradient for our closest airport using 𝜕f/𝜕x,𝜕f/𝜕y forumla\n",
    "            gradient[closest_airport][0] += 2 * (airports[closest_airport][0] - city[0])\n",
    "            gradient[closest_airport][1] += 2 * (airports[closest_airport][1] - city[1])\n",
    "\n",
    "        # Update our airport coordinates/positions using the formula\n",
    "        for i in range(3):\n",
    "            airports[i][0] = airports[i][0] - alpha * gradient[i][0]\n",
    "            airports[i][1] = airports[i][1] - alpha * gradient[i][1]\n",
    "\n",
    "    return distance_values\n",
    "\n",
    "# run our gradient descent\n",
    "gradient_optimization = gradient_descent(airports, cities, alpha, iterations)\n",
    "\n",
    "# plot our objective function value at each iteration\n",
    "plt.figure(figsize=(8, 6))\n",
    "plt.scatter(range(1, iterations + 1), gradient_optimization, marker='o', color='b')\n",
    "plt.xlabel('Iterations')\n",
    "plt.ylabel('Objective Function')\n",
    "plt\n",
    "\n",
    "# plot the optimal state \n",
    "plt.figure(figsize=(8, 6))\n",
    "plt.scatter(zip_cities[0], zip_cities[1], marker='+', color='b', label='Cities')\n",
    "zip_airs = list(zip(*airports))\n",
    "plt.scatter(zip_airs[0], zip_airs[1], marker='*', color='r', s=100, label='Airports')\n",
    "plt.legend()\n",
    "plt"
   ]
  },
  {
   "cell_type": "code",
   "execution_count": null,
   "metadata": {},
   "outputs": [],
   "source": []
  }
 ],
 "metadata": {
  "kernelspec": {
   "display_name": "Python 3 (ipykernel)",
   "language": "python",
   "name": "python3"
  },
  "language_info": {
   "codemirror_mode": {
    "name": "ipython",
    "version": 3
   },
   "file_extension": ".py",
   "mimetype": "text/x-python",
   "name": "python",
   "nbconvert_exporter": "python",
   "pygments_lexer": "ipython3",
   "version": "3.9.7"
  }
 },
 "nbformat": 4,
 "nbformat_minor": 4
}
